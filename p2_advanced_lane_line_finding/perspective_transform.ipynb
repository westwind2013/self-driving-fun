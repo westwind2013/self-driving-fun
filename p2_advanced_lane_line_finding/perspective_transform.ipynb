{
 "cells": [
  {
   "cell_type": "code",
   "execution_count": 2,
   "metadata": {},
   "outputs": [],
   "source": [
    "# import packages\n",
    "import matplotlib.pyplot as plt\n",
    "import matplotlib.image as mpimg\n",
    "import numpy as np\n",
    "import cv2\n",
    "import os\n",
    "import math\n",
    "from moviepy.editor import VideoFileClip\n",
    "%matplotlib inline\n",
    "\n",
    "def get_perspective_transform(image, show=False):\n",
    "    # Vertices extracted manually for performing a perspective transform\n",
    "    bottom_left = [205,720]\n",
    "    bottom_right = [1105, 720]\n",
    "    top_left = [565, 470]\n",
    "    top_right = [720, 470]\n",
    "\n",
    "    source = np.float32([bottom_left, bottom_right, top_right, top_left])\n",
    "\n",
    "    pts = np.array([bottom_left, bottom_right, top_right, top_left], np.int32)\n",
    "    pts = pts.reshape((-1,1,2))\n",
    "    orig = image.copy()\n",
    "    cv2.polylines(orig,[pts],True,(255,0,0), thickness=3)\n",
    "\n",
    "    # Destination points are chosen such that straight lanes appear more or less parallel in the transformed image.\n",
    "    bottom_left = [320,720]\n",
    "    bottom_right = [920, 720]\n",
    "    top_left = [320, 1]\n",
    "    top_right = [920, 1]\n",
    "\n",
    "    dst = np.float32([bottom_left,bottom_right,top_right,top_left])\n",
    "    M = cv2.getPerspectiveTransform(source, dst)\n",
    "    M_inv = cv2.getPerspectiveTransform(dst, source)\n",
    "    \n",
    "    if show:\n",
    "        warped = cv2.warpPerspective(image, M, get_shape_of_image(image), flags=cv2.INTER_LINEAR)\n",
    "        f, (ax1, ax2) = plt.subplots(1, 2, figsize=(24, 9))\n",
    "        f.tight_layout()\n",
    "        ax1.imshow(orig)\n",
    "        ax2.imshow(warped)\n",
    "        plt.subplots_adjust(left=0., right=1, top=0.9, bottom=0.)\n",
    "        plt.savefig(os.path.join(OUTPUT_DIR, 'perspective_transform.jpg'))\n",
    "    \n",
    "    return M, M_inv\n",
    "\n",
    "def warp(image, M):\n",
    "    return cv2.warpPerspective(image, M, get_shape_of_image(image), flags=cv2.INTER_LINEAR)"
   ]
  },
  {
   "cell_type": "code",
   "execution_count": null,
   "metadata": {},
   "outputs": [],
   "source": []
  }
 ],
 "metadata": {
  "kernelspec": {
   "display_name": "Python 3",
   "language": "python",
   "name": "python3"
  },
  "language_info": {
   "codemirror_mode": {
    "name": "ipython",
    "version": 3
   },
   "file_extension": ".py",
   "mimetype": "text/x-python",
   "name": "python",
   "nbconvert_exporter": "python",
   "pygments_lexer": "ipython3",
   "version": "3.6.3"
  }
 },
 "nbformat": 4,
 "nbformat_minor": 2
}
