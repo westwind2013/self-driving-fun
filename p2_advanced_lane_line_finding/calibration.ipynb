{
 "cells": [
  {
   "cell_type": "markdown",
   "metadata": {},
   "source": [
    "## Camera Calibration"
   ]
  },
  {
   "cell_type": "code",
   "execution_count": 16,
   "metadata": {},
   "outputs": [],
   "source": [
    "# import packages\n",
    "import matplotlib.pyplot as plt\n",
    "import matplotlib.image as mpimg\n",
    "import numpy as np\n",
    "import cv2\n",
    "import os\n",
    "import math\n",
    "from moviepy.editor import VideoFileClip\n",
    "%matplotlib inline\n",
    "\n",
    "CHESSBOARD_WIDTH = 9\n",
    "CHESSBOARD_HEIGHT = 6\n",
    "OUTPUT_DIR = 'output_images'\n",
    "CALIBRATION_IMAGE_PATH = 'camera_cal'"
   ]
  },
  {
   "cell_type": "code",
   "execution_count": 17,
   "metadata": {},
   "outputs": [],
   "source": [
    "%run utilities.ipynb"
   ]
  },
  {
   "cell_type": "code",
   "execution_count": 18,
   "metadata": {},
   "outputs": [],
   "source": [
    "def calibrate():\n",
    "    \"\"\"\n",
    "    Calibrate camera\n",
    "    \"\"\"\n",
    "    calibration_images = read_images(CALIBRATION_IMAGE_PATH)\n",
    "    obj_points, img_points = _extract_points(calibration_images,\n",
    "                                             CHESSBOARD_WIDTH,\n",
    "                                             CHESSBOARD_HEIGHT)\n",
    "    # ret, return value\n",
    "    # mtx, camera matrix used for transforming object points in 3d to ones in 2d\n",
    "    # dist, distortion coefficient\n",
    "    # rvecs, rotation vectors\n",
    "    # tvecs, translation vectors\n",
    "    return cv2.calibrateCamera(obj_points, \n",
    "                               img_points, \n",
    "                               get_shape_of_images(calibration_images), \n",
    "                               None, \n",
    "                               None)\n",
    "\n",
    "def undistort_all(images, mtx, dist):\n",
    "    \"\"\"\n",
    "    Undistort images\n",
    "    \"\"\"\n",
    "    recovered_images = {}\n",
    "    for fname, image in images.items():\n",
    "        recovered_images[fname] = cv2.undistort(image, mtx, dist, None, mtx)\n",
    "    return recovered_images\n",
    "\n",
    "def undistort_one(image, mtx, dist):\n",
    "    return cv2.undistort(image, mtx, dist, None, mtx)\n",
    "\n",
    "def _extract_points(images, width, height, mark_image=False):\n",
    "    \"\"\"\n",
    "    Return a list of image points and object points\n",
    "    Parameters:\n",
    "        images, image_name, image\n",
    "        width, chessboard width\n",
    "        height, chessboard height\n",
    "        mark, mark corners on the images or not\n",
    "    \"\"\"\n",
    "    \n",
    "    # prepare object points, like (0,0,0), (1,0,0), (2,0,0) ....,(6,5,0)\n",
    "    obj_point = np.zeros((width*height,3), np.float32)\n",
    "    obj_point[:,:2] = np.mgrid[0:width, 0:height].T.reshape(-1,2)\n",
    "\n",
    "    # Arrays to store object points and image points from all the images.\n",
    "    obj_points = [] # 3d points in real world space\n",
    "    img_points = [] # 2d points in image plane.\n",
    "\n",
    "    # Step through the list and search for chessboard corners\n",
    "    for _, img in images.items():\n",
    "        # turn the image into grayscale\n",
    "        gray = cv2.cvtColor(img, cv2.COLOR_RGB2GRAY)\n",
    "        # Find the chessboard corners\n",
    "        ret, corners = cv2.findChessboardCorners(gray, (width,height), None)\n",
    "        # If found, add object points, image points\n",
    "        if ret == True:\n",
    "            obj_points.append(obj_point)\n",
    "            img_points.append(corners)\n",
    "            if mark_image:\n",
    "                # Draw corners on the image\n",
    "                cv2.drawChessboardCorners(img, (width,height), corners, ret)\n",
    "    return obj_points, img_points"
   ]
  },
  {
   "cell_type": "code",
   "execution_count": null,
   "metadata": {},
   "outputs": [],
   "source": []
  },
  {
   "cell_type": "code",
   "execution_count": null,
   "metadata": {},
   "outputs": [],
   "source": []
  }
 ],
 "metadata": {
  "kernelspec": {
   "display_name": "Python 3",
   "language": "python",
   "name": "python3"
  },
  "language_info": {
   "codemirror_mode": {
    "name": "ipython",
    "version": 3
   },
   "file_extension": ".py",
   "mimetype": "text/x-python",
   "name": "python",
   "nbconvert_exporter": "python",
   "pygments_lexer": "ipython3",
   "version": "3.6.3"
  }
 },
 "nbformat": 4,
 "nbformat_minor": 2
}
